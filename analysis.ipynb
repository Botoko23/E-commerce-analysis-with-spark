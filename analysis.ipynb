{
 "cells": [
  {
   "cell_type": "code",
   "execution_count": 1,
   "id": "d782cec7-1cb7-4bda-bdcd-7d298c40aef7",
   "metadata": {
    "execution": {
     "iopub.execute_input": "2024-02-11T02:32:43.200095Z",
     "iopub.status.busy": "2024-02-11T02:32:43.199776Z",
     "iopub.status.idle": "2024-02-11T02:33:26.298028Z",
     "shell.execute_reply": "2024-02-11T02:33:26.297246Z",
     "shell.execute_reply.started": "2024-02-11T02:32:43.200063Z"
    },
    "tags": []
   },
   "outputs": [
    {
     "data": {
      "application/vnd.jupyter.widget-view+json": {
       "model_id": "360e15fa11ab4543828d523d3a8d142f",
       "version_major": 2,
       "version_minor": 0
      },
      "text/plain": [
       "VBox()"
      ]
     },
     "metadata": {},
     "output_type": "display_data"
    },
    {
     "name": "stdout",
     "output_type": "stream",
     "text": [
      "Starting Spark application\n"
     ]
    },
    {
     "data": {
      "text/html": [
       "<table>\n<tbody><tr><th>ID</th><th>YARN Application ID</th><th>Kind</th><th>State</th><th>Spark UI</th><th>Driver log</th><th>User</th><th>Current session?</th></tr><tr><td>0</td><td>application_1707618378361_0001</td><td>pyspark</td><td>idle</td><td><a target=\"_blank\" href=\"http://ip-172-31-74-243.ec2.internal:20888/proxy/application_1707618378361_0001/\" class=\"emr-proxy-link j-3STGTROEURBFE application_1707618378361_0001\" emr-resource=\"j-3STGTROEURBFE\n\" application-id=\"application_1707618378361_0001\">Link</a></td><td><a target=\"_blank\" href=\"http://ip-172-31-76-64.ec2.internal:8042/node/containerlogs/container_1707618378361_0001_01_000001/livy\">Link</a></td><td>None</td><td>✔</td></tr></tbody></table>"
      ],
      "text/plain": [
       "<IPython.core.display.HTML object>"
      ]
     },
     "metadata": {},
     "output_type": "display_data"
    },
    {
     "data": {
      "application/vnd.jupyter.widget-view+json": {
       "model_id": "",
       "version_major": 2,
       "version_minor": 0
      },
      "text/plain": [
       "FloatProgress(value=0.0, bar_style='info', description='Progress:', layout=Layout(height='25px', width='50%'),…"
      ]
     },
     "metadata": {},
     "output_type": "display_data"
    },
    {
     "name": "stdout",
     "output_type": "stream",
     "text": [
      "SparkSession available as 'spark'.\n"
     ]
    },
    {
     "data": {
      "application/vnd.jupyter.widget-view+json": {
       "model_id": "",
       "version_major": 2,
       "version_minor": 0
      },
      "text/plain": [
       "FloatProgress(value=0.0, bar_style='info', description='Progress:', layout=Layout(height='25px', width='50%'),…"
      ]
     },
     "metadata": {},
     "output_type": "display_data"
    }
   ],
   "source": [
    "from pyspark.sql import SparkSession\n",
    "\n",
    "# Create a Spark session\n",
    "spark = SparkSession.builder.appName(\"myApp\").getOrCreate()\n",
    "\n",
    "# Enable Adaptive Query Execution\n",
    "spark.conf.set(\"spark.sql.adaptive.enabled\", \"true\")\n",
    "\n",
    "# num_executors = spark.sparkContext._jsc.sc().getExecutorMemoryStatus().keySet().size()\n",
    "\n",
    "# # Print the number of executors\n",
    "# print(\"Number of Executors:\", num_executors)\n",
    "\n"
   ]
  },
  {
   "cell_type": "code",
   "execution_count": 6,
   "id": "b45a3bae-19ee-4a5a-92de-acf9630a13a1",
   "metadata": {
    "execution": {
     "iopub.execute_input": "2024-02-06T06:36:34.936198Z",
     "iopub.status.busy": "2024-02-06T06:36:34.935973Z",
     "iopub.status.idle": "2024-02-06T06:36:35.193517Z",
     "shell.execute_reply": "2024-02-06T06:36:35.192774Z",
     "shell.execute_reply.started": "2024-02-06T06:36:34.936174Z"
    },
    "tags": []
   },
   "outputs": [
    {
     "data": {
      "application/vnd.jupyter.widget-view+json": {
       "model_id": "69b41b8df58c4eb4a06dec6fe3b04b22",
       "version_major": 2,
       "version_minor": 0
      },
      "text/plain": [
       "VBox()"
      ]
     },
     "metadata": {},
     "output_type": "display_data"
    },
    {
     "data": {
      "application/vnd.jupyter.widget-view+json": {
       "model_id": "",
       "version_major": 2,
       "version_minor": 0
      },
      "text/plain": [
       "FloatProgress(value=0.0, bar_style='info', description='Progress:', layout=Layout(height='25px', width='50%'),…"
      ]
     },
     "metadata": {},
     "output_type": "display_data"
    },
    {
     "name": "stdout",
     "output_type": "stream",
     "text": [
      "Executor Memory: 9486M\n",
      "Executor Cores: 4"
     ]
    }
   ],
   "source": [
    "# Get executor memory\n",
    "executor_memory = spark.sparkContext.getConf().get(\"spark.executor.memory\")\n",
    "print(\"Executor Memory:\", executor_memory)\n",
    "\n",
    "# Get executor cores\n",
    "executor_cores = spark.sparkContext.getConf().get(\"spark.executor.cores\")\n",
    "print(\"Executor Cores:\", executor_cores)\n"
   ]
  },
  {
   "cell_type": "markdown",
   "id": "f9aa72f9-1be9-472c-a6f5-d6b9cbbc0da5",
   "metadata": {
    "execution": {
     "iopub.execute_input": "2024-01-23T13:31:27.464544Z",
     "iopub.status.busy": "2024-01-23T13:31:27.463818Z",
     "iopub.status.idle": "2024-01-23T13:31:27.541036Z",
     "shell.execute_reply": "2024-01-23T13:31:27.540268Z",
     "shell.execute_reply.started": "2024-01-23T13:31:27.464495Z"
    }
   },
   "source": [
    "# **E-commerce Key Metrics Analysis**\n",
    "\n",
    "The goal of this notebook is to take a look at the store's key performance indicators and also find insights from the data that can help the store improve its revenue and performance goals.\n",
    "\n",
    "Here are a few of the questions I am going to answer:\n",
    "* **Top 10 Highest Grossing Products**\n",
    "* **Top 10 Products by Earnings per Session**\n",
    "* **Top 10 Products by Conversion Rates**\n",
    "* **Most Cross-sold Product Bundles**\n",
    "* **Average Order Value**\n",
    "* **Customer Lifetime Value**\n",
    "\n",
    "Now, without further ado, let's dive deep into the notebook.\n",
    "***"
   ]
  },
  {
   "cell_type": "code",
   "execution_count": 2,
   "id": "0e2eb991-e3cb-44e5-addb-0e7d417b9ec0",
   "metadata": {
    "execution": {
     "iopub.execute_input": "2024-02-11T02:33:32.647675Z",
     "iopub.status.busy": "2024-02-11T02:33:32.647458Z",
     "iopub.status.idle": "2024-02-11T02:35:02.311545Z",
     "shell.execute_reply": "2024-02-11T02:35:02.310844Z",
     "shell.execute_reply.started": "2024-02-11T02:33:32.647650Z"
    },
    "tags": []
   },
   "outputs": [
    {
     "data": {
      "application/vnd.jupyter.widget-view+json": {
       "model_id": "0769358ee09c477995f25a29a4f3d898",
       "version_major": 2,
       "version_minor": 0
      },
      "text/plain": [
       "VBox()"
      ]
     },
     "metadata": {},
     "output_type": "display_data"
    },
    {
     "data": {
      "application/vnd.jupyter.widget-view+json": {
       "model_id": "",
       "version_major": 2,
       "version_minor": 0
      },
      "text/plain": [
       "FloatProgress(value=0.0, bar_style='info', description='Progress:', layout=Layout(height='25px', width='50%'),…"
      ]
     },
     "metadata": {},
     "output_type": "display_data"
    },
    {
     "name": "stdout",
     "output_type": "stream",
     "text": [
      "root\n",
      " |-- event_time: timestamp (nullable = true)\n",
      " |-- event_type: string (nullable = true)\n",
      " |-- product_id: integer (nullable = true)\n",
      " |-- category_id: long (nullable = true)\n",
      " |-- category_code: string (nullable = true)\n",
      " |-- brand: string (nullable = true)\n",
      " |-- price: double (nullable = true)\n",
      " |-- user_id: integer (nullable = true)\n",
      " |-- user_session: string (nullable = true)"
     ]
    }
   ],
   "source": [
    "# Read CSV file from S3 into a DataFrame\n",
    "df = spark.read.csv('s3://emr-spark-bucket-1/raw/2019-Oct.csv', header=True, inferSchema=True)\n",
    "\n",
    "# Show the DataFrame schema and first few rows\n",
    "df.printSchema()\n"
   ]
  },
  {
   "cell_type": "code",
   "execution_count": 8,
   "id": "6f7e5a5f-330b-4aed-a529-2f2ff2aad5d0",
   "metadata": {
    "execution": {
     "iopub.execute_input": "2024-02-06T06:50:16.668945Z",
     "iopub.status.busy": "2024-02-06T06:50:16.668722Z",
     "iopub.status.idle": "2024-02-06T06:50:44.126701Z",
     "shell.execute_reply": "2024-02-06T06:50:44.126098Z",
     "shell.execute_reply.started": "2024-02-06T06:50:16.668919Z"
    },
    "tags": []
   },
   "outputs": [
    {
     "data": {
      "application/vnd.jupyter.widget-view+json": {
       "model_id": "d738f27e2f6c43fa9b03a0c6819ea3eb",
       "version_major": 2,
       "version_minor": 0
      },
      "text/plain": [
       "VBox()"
      ]
     },
     "metadata": {},
     "output_type": "display_data"
    },
    {
     "data": {
      "application/vnd.jupyter.widget-view+json": {
       "model_id": "",
       "version_major": 2,
       "version_minor": 0
      },
      "text/plain": [
       "FloatProgress(value=0.0, bar_style='info', description='Progress:', layout=Layout(height='25px', width='50%'),…"
      ]
     },
     "metadata": {},
     "output_type": "display_data"
    },
    {
     "name": "stdout",
     "output_type": "stream",
     "text": [
      "Number of Rows: 42448764"
     ]
    }
   ],
   "source": [
    "# Get the number of rows in the DataFrame\n",
    "num_rows = df.count()\n",
    "\n",
    "# Print the number of rows\n",
    "print(\"Number of Rows:\", num_rows)"
   ]
  },
  {
   "cell_type": "markdown",
   "id": "2854f53a-fb39-450d-a632-e045da61fcf7",
   "metadata": {},
   "source": [
    "<h3> Prepping the Data </h3>\n",
    "\n",
    "Currently, the table we are working with (raw_events_data) stores all of the information from products, website sessions, and website events. (Just like in the picture below)\n",
    "\n",
    "Unfortunately, the way this table is structured leads to a lot of redundant data being stored, thus making our analysis a lot slower and making it harder for us to make sense of the data.\n",
    "\n",
    "So before we begin actually looking for insights, let's transform this big clunky table into 3 smaller ones by applying a few normalizing principles.\n",
    "\n",
    "After we normalize the table, we will end up with 3 different tables, they are:\n",
    "1. products: Holds unique information from the products\n",
    "1. user_sessions table: Holds unique information from the website sessions\n",
    "1. events: Holds unique information from the website events  "
   ]
  },
  {
   "cell_type": "code",
   "execution_count": 13,
   "id": "c69852c2-bc8a-4b64-8359-9e0011ce44a7",
   "metadata": {
    "execution": {
     "iopub.execute_input": "2024-02-11T02:50:55.182280Z",
     "iopub.status.busy": "2024-02-11T02:50:55.182008Z",
     "iopub.status.idle": "2024-02-11T02:51:42.612928Z",
     "shell.execute_reply": "2024-02-11T02:51:42.612244Z",
     "shell.execute_reply.started": "2024-02-11T02:50:55.182251Z"
    },
    "tags": []
   },
   "outputs": [
    {
     "data": {
      "application/vnd.jupyter.widget-view+json": {
       "model_id": "9602011739dc4e55a48ebf04722fc7cb",
       "version_major": 2,
       "version_minor": 0
      },
      "text/plain": [
       "VBox()"
      ]
     },
     "metadata": {},
     "output_type": "display_data"
    },
    {
     "data": {
      "application/vnd.jupyter.widget-view+json": {
       "model_id": "",
       "version_major": 2,
       "version_minor": 0
      },
      "text/plain": [
       "FloatProgress(value=0.0, bar_style='info', description='Progress:', layout=Layout(height='25px', width='50%'),…"
      ]
     },
     "metadata": {},
     "output_type": "display_data"
    },
    {
     "name": "stdout",
     "output_type": "stream",
     "text": [
      "Number of Rows: 166794\n",
      "Number of Rows: 174537"
     ]
    }
   ],
   "source": [
    "from pyspark.sql.functions import avg, coalesce, collect_list, array_contains\n",
    "\n",
    "product_df = df.select('product_id', 'category_code', 'brand', 'price')\n",
    "\n",
    "# product_df = product_df.groupBy('product_id', \"category_code\").agg(collect_list(\"brand\")[0].alias(\"cleaned_brand\"))\n",
    "\n",
    "product_df1 = product_df.groupBy('product_id', 'category_code').agg(avg('price').alias('price'))\n",
    "product_df2 = product_df.groupBy('product_id', 'category_code', 'brand').agg(avg('price').alias('price'))\n",
    "\n",
    "print(\"Number of Rows:\", product_df1.count())\n",
    "print(\"Number of Rows:\", product_df2.count())\n",
    "# print(\"Number of Rows:\", test.count())"
   ]
  },
  {
   "cell_type": "markdown",
   "id": "b02b127e-b868-4468-998e-7b67b6c5ca65",
   "metadata": {},
   "source": [
    "we see that number of rows when grouped be 'product_id', 'category_code', 'brand' > when grouped by 'product_id', 'category_code'. This means there are products with same id and category_code, but somehow the brand is different.\n",
    "This could be caused bye null values or mistakes in brand names."
   ]
  },
  {
   "cell_type": "code",
   "execution_count": 35,
   "id": "29c06028-6efe-424c-af8d-6d7498ec41b1",
   "metadata": {
    "execution": {
     "iopub.execute_input": "2024-02-11T03:43:27.222043Z",
     "iopub.status.busy": "2024-02-11T03:43:27.221807Z",
     "iopub.status.idle": "2024-02-11T03:43:52.562993Z",
     "shell.execute_reply": "2024-02-11T03:43:52.562230Z",
     "shell.execute_reply.started": "2024-02-11T03:43:27.222016Z"
    }
   },
   "outputs": [
    {
     "data": {
      "application/vnd.jupyter.widget-view+json": {
       "model_id": "850c43884f994cd8bd35b9841f73820f",
       "version_major": 2,
       "version_minor": 0
      },
      "text/plain": [
       "VBox()"
      ]
     },
     "metadata": {},
     "output_type": "display_data"
    },
    {
     "data": {
      "application/vnd.jupyter.widget-view+json": {
       "model_id": "",
       "version_major": 2,
       "version_minor": 0
      },
      "text/plain": [
       "FloatProgress(value=0.0, bar_style='info', description='Progress:', layout=Layout(height='25px', width='50%'),…"
      ]
     },
     "metadata": {},
     "output_type": "display_data"
    },
    {
     "name": "stdout",
     "output_type": "stream",
     "text": [
      "42380091"
     ]
    }
   ],
   "source": [
    "df.select('product_id', 'category_code', 'brand', 'price').filter(col('price') != 0).count()"
   ]
  },
  {
   "cell_type": "code",
   "execution_count": 32,
   "id": "efbda06b-1c17-4a1e-89cb-83a0bb6ec867",
   "metadata": {
    "execution": {
     "iopub.execute_input": "2024-02-11T03:37:54.923977Z",
     "iopub.status.busy": "2024-02-11T03:37:54.923610Z",
     "iopub.status.idle": "2024-02-11T03:38:40.334620Z",
     "shell.execute_reply": "2024-02-11T03:38:40.333867Z",
     "shell.execute_reply.started": "2024-02-11T03:37:54.923929Z"
    },
    "tags": []
   },
   "outputs": [
    {
     "data": {
      "application/vnd.jupyter.widget-view+json": {
       "model_id": "36aad615040941548d169a695fc01152",
       "version_major": 2,
       "version_minor": 0
      },
      "text/plain": [
       "VBox()"
      ]
     },
     "metadata": {},
     "output_type": "display_data"
    },
    {
     "data": {
      "application/vnd.jupyter.widget-view+json": {
       "model_id": "",
       "version_major": 2,
       "version_minor": 0
      },
      "text/plain": [
       "FloatProgress(value=0.0, bar_style='info', description='Progress:', layout=Layout(height='25px', width='50%'),…"
      ]
     },
     "metadata": {},
     "output_type": "display_data"
    },
    {
     "name": "stdout",
     "output_type": "stream",
     "text": [
      "+----------+--------------------+----------+--------------------+-------------------+\n",
      "|product_id|       category_code|     brand|         brand_array|most_repeated_brand|\n",
      "+----------+--------------------+----------+--------------------+-------------------+\n",
      "|   1002870|electronics.smart...|    gionee|    [gionee, gionee]|             gionee|\n",
      "|   1002876|electronics.smart...|      NULL|                  []|               NULL|\n",
      "|   1003015|electronics.smart...|        lg|[lg, lg, lg, lg, ...|                 lg|\n",
      "|   1003028|electronics.smart...|     apple|[apple, apple, ap...|              apple|\n",
      "|   1003141|electronics.smart...|     apple|[apple, apple, ap...|              apple|\n",
      "|   1003385|electronics.smart...|    gionee|[gionee, gionee, ...|             gionee|\n",
      "|   1003440|electronics.smart...|    xiaomi|[xiaomi, xiaomi, ...|             xiaomi|\n",
      "|   1003461|electronics.smart...|    xiaomi|[xiaomi, xiaomi, ...|             xiaomi|\n",
      "|   1003761|electronics.smart...|      sony|[sony, sony, sony...|               sony|\n",
      "|   1003774|electronics.smart...|     nokia|[nokia, nokia, no...|              nokia|\n",
      "|   1003902|electronics.smart...|blackberry|        [blackberry]|         blackberry|\n",
      "|   1003982|electronics.smart...|    huawei|[huawei, huawei, ...|             huawei|\n",
      "|   1004080|electronics.smart...|    xiaomi|[xiaomi, xiaomi, ...|             xiaomi|\n",
      "|   1004090|electronics.smart...|     irbis|[irbis, irbis, ir...|              irbis|\n",
      "|   1004101|electronics.smart...|        bq|[bq, bq, bq, bq, ...|                 bq|\n",
      "|   1004158|electronics.smart...|   samsung|[samsung, samsung...|            samsung|\n",
      "|   1004185|electronics.smart...|     meizu|[meizu, meizu, me...|              meizu|\n",
      "|   1004223|electronics.smart...| prestigio|[prestigio, prest...|          prestigio|\n",
      "|   1004230|electronics.smart...|     apple|[apple, apple, ap...|              apple|\n",
      "|   1004250|electronics.smart...|     apple|[apple, apple, ap...|              apple|\n",
      "+----------+--------------------+----------+--------------------+-------------------+\n",
      "only showing top 20 rows"
     ]
    }
   ],
   "source": [
    "# from pyspark.sql.functions import size, col, udf\n",
    "# from pyspark.sql.types import StringType\n",
    "# from collections import Counter\n",
    "\n",
    "\n",
    "# def most_repeated_brand(arr):\n",
    "    \n",
    "#     if len(arr) > 0:\n",
    "#         # Count occurrences of each element in the list\n",
    "#         counter = Counter(arr)\n",
    "\n",
    "#         # Find the most common value\n",
    "#         first_tuple = counter.most_common(1)[0]\n",
    "\n",
    "#         # Extract the most common value and its count\n",
    "#         most_repeated_brand = first_tuple[0]\n",
    "\n",
    "#         return most_repeated_brand\n",
    "#     elif len(arr) == 0:\n",
    "#         return None\n",
    "        \n",
    "\n",
    "# Register the UDF\n",
    "# udf_most_repeated_brand = udf(most_repeated_brand, StringType())\n",
    "\n",
    "# product_df = df.select('product_id', 'category_code', 'brand', 'price')\n",
    "# product_df = product_df.filter(col('price') != 0)\n",
    "\n",
    "# test = product_df.groupBy('product_id', 'category_code','brand').agg(collect_list(\"brand\").alias(\"brand_array\"))\n",
    "\n",
    "# test = test.withColumn('most_repeated_brand', udf_most_repeated_brand('brand_array'))\n",
    "\n",
    "# test.show()\n",
    "            "
   ]
  },
  {
   "cell_type": "code",
   "execution_count": 45,
   "id": "bc0cc06c-fea6-4eb3-b7d1-36872e4c0fc9",
   "metadata": {
    "execution": {
     "iopub.execute_input": "2024-02-11T04:10:53.914622Z",
     "iopub.status.busy": "2024-02-11T04:10:53.914387Z",
     "iopub.status.idle": "2024-02-11T04:11:41.300600Z",
     "shell.execute_reply": "2024-02-11T04:11:41.299827Z",
     "shell.execute_reply.started": "2024-02-11T04:10:53.914596Z"
    },
    "tags": []
   },
   "outputs": [
    {
     "data": {
      "application/vnd.jupyter.widget-view+json": {
       "model_id": "5d17e685567f4819ad46b69435ce06b4",
       "version_major": 2,
       "version_minor": 0
      },
      "text/plain": [
       "VBox()"
      ]
     },
     "metadata": {},
     "output_type": "display_data"
    },
    {
     "data": {
      "application/vnd.jupyter.widget-view+json": {
       "model_id": "",
       "version_major": 2,
       "version_minor": 0
      },
      "text/plain": [
       "FloatProgress(value=0.0, bar_style='info', description='Progress:', layout=Layout(height='25px', width='50%'),…"
      ]
     },
     "metadata": {},
     "output_type": "display_data"
    },
    {
     "name": "stdout",
     "output_type": "stream",
     "text": [
      "+----------+--------------------+----------+--------------------+--------+\n",
      "|product_id|       category_code|     brand|         brand_array|   price|\n",
      "+----------+--------------------+----------+--------------------+--------+\n",
      "|   1002870|electronics.smart...|    gionee|    [gionee, gionee]|   64.09|\n",
      "|   1002876|electronics.smart...|      NULL|                  []|   198.2|\n",
      "|   1003015|electronics.smart...|        lg|[lg, lg, lg, lg, ...| 132.827|\n",
      "|   1003028|electronics.smart...|     apple|[apple, apple, ap...|  615.54|\n",
      "|   1003141|electronics.smart...|     apple|[apple, apple, ap...| 378.898|\n",
      "|   1003385|electronics.smart...|    gionee|[gionee, gionee, ...|  123.56|\n",
      "|   1003440|electronics.smart...|    xiaomi|[xiaomi, xiaomi, ...|  125.87|\n",
      "|   1003461|electronics.smart...|    xiaomi|[xiaomi, xiaomi, ...| 381.341|\n",
      "|   1003761|electronics.smart...|      sony|[sony, sony, sony...| 953.779|\n",
      "|   1003774|electronics.smart...|     nokia|[nokia, nokia, no...|   370.2|\n",
      "|   1003902|electronics.smart...|blackberry|        [blackberry]|  375.56|\n",
      "|   1003982|electronics.smart...|    huawei|[huawei, huawei, ...|  111.24|\n",
      "|   1004080|electronics.smart...|    xiaomi|[xiaomi, xiaomi, ...| 408.116|\n",
      "|   1004090|electronics.smart...|     irbis|[irbis, irbis, ir...|  46.379|\n",
      "|   1004101|electronics.smart...|        bq|[bq, bq, bq, bq, ...|  72.995|\n",
      "|   1004158|electronics.smart...|   samsung|[samsung, samsung...| 780.511|\n",
      "|   1004185|electronics.smart...|     meizu|[meizu, meizu, me...|  325.07|\n",
      "|   1004223|electronics.smart...| prestigio|[prestigio, prest...|   71.82|\n",
      "|   1004230|electronics.smart...|     apple|[apple, apple, ap...|1131.312|\n",
      "|   1004250|electronics.smart...|     apple|[apple, apple, ap...|  798.32|\n",
      "+----------+--------------------+----------+--------------------+--------+\n",
      "only showing top 20 rows"
     ]
    }
   ],
   "source": [
    "from pyspark.sql.functions import col, array_distinct, size, round\n",
    "\n",
    "df = df.filter(col('price') != 0)\n",
    "\n",
    "product_df = df.select('product_id', 'category_code', 'brand', 'price')\n",
    "\n",
    "product_df = product_df.groupBy('product_id', 'category_code','brand').agg(collect_list(\"brand\").alias(\"brand_array\"),\n",
    "                                                                    round(avg('price'), 3).alias('price'))\n",
    "product_df.show()"
   ]
  },
  {
   "cell_type": "code",
   "execution_count": 47,
   "id": "e7ac20a3-7563-45c6-9509-654cdcd7e81d",
   "metadata": {
    "execution": {
     "iopub.execute_input": "2024-02-11T04:12:49.738388Z",
     "iopub.status.busy": "2024-02-11T04:12:49.738152Z",
     "iopub.status.idle": "2024-02-11T04:13:27.097279Z",
     "shell.execute_reply": "2024-02-11T04:13:27.096544Z",
     "shell.execute_reply.started": "2024-02-11T04:12:49.738361Z"
    },
    "tags": []
   },
   "outputs": [
    {
     "data": {
      "application/vnd.jupyter.widget-view+json": {
       "model_id": "158198a6d72d4011aae82897144d3466",
       "version_major": 2,
       "version_minor": 0
      },
      "text/plain": [
       "VBox()"
      ]
     },
     "metadata": {},
     "output_type": "display_data"
    },
    {
     "data": {
      "application/vnd.jupyter.widget-view+json": {
       "model_id": "",
       "version_major": 2,
       "version_minor": 0
      },
      "text/plain": [
       "FloatProgress(value=0.0, bar_style='info', description='Progress:', layout=Layout(height='25px', width='50%'),…"
      ]
     },
     "metadata": {},
     "output_type": "display_data"
    },
    {
     "name": "stdout",
     "output_type": "stream",
     "text": [
      "+----------+-------------+-----+-----------+-----+\n",
      "|product_id|category_code|brand|brand_array|price|\n",
      "+----------+-------------+-----+-----------+-----+\n",
      "+----------+-------------+-----+-----------+-----+"
     ]
    }
   ],
   "source": [
    "product_df.filter(size(array_distinct(\"brand_array\")) > 1).show()\n"
   ]
  },
  {
   "cell_type": "markdown",
   "id": "5a014395-6a1c-4921-81b1-e71783ae24fe",
   "metadata": {},
   "source": [
    "given there is no record -> the mismatch is sovled "
   ]
  },
  {
   "cell_type": "code",
   "execution_count": 54,
   "id": "446b6abf-d5cb-4a69-8ec0-d47d51f97994",
   "metadata": {
    "execution": {
     "iopub.execute_input": "2024-02-09T10:23:20.526240Z",
     "iopub.status.busy": "2024-02-09T10:23:20.526000Z",
     "iopub.status.idle": "2024-02-09T10:23:47.867735Z",
     "shell.execute_reply": "2024-02-09T10:23:47.867165Z",
     "shell.execute_reply.started": "2024-02-09T10:23:20.526214Z"
    },
    "tags": []
   },
   "outputs": [
    {
     "data": {
      "application/vnd.jupyter.widget-view+json": {
       "model_id": "44311f0519294674a3dc67c05da4f7f1",
       "version_major": 2,
       "version_minor": 0
      },
      "text/plain": [
       "VBox()"
      ]
     },
     "metadata": {},
     "output_type": "display_data"
    },
    {
     "data": {
      "application/vnd.jupyter.widget-view+json": {
       "model_id": "",
       "version_major": 2,
       "version_minor": 0
      },
      "text/plain": [
       "FloatProgress(value=0.0, bar_style='info', description='Progress:', layout=Layout(height='25px', width='50%'),…"
      ]
     },
     "metadata": {},
     "output_type": "display_data"
    },
    {
     "name": "stdout",
     "output_type": "stream",
     "text": [
      "+--------------------+-----+\n",
      "|       category_code|brand|\n",
      "+--------------------+-----+\n",
      "|furniture.living_...| NULL|\n",
      "+--------------------+-----+"
     ]
    }
   ],
   "source": [
    "# product_df = df.select('product_id', 'category_code', 'brand', 'price')\n",
    "\n",
    "# product_df = product_df.groupBy('product_id', \"category_code\").agg(collect_list(\"brand\")[0].alias(\"brand\"))\n",
    "\n",
    "# product_df.filter((product_df[\"brand\"].isNull()) & (product_df[\"price\"] != 0)).show()\n",
    "\n",
    "# product_df.filter(product_df[\"product_id\"]==17200506).groupBy(\"category_code\").agg(collect_list(\"brand\")[0].alias(\"brand\")).show()\n",
    "\n",
    "\n",
    "# print(\"Number of Rows:\", product_df.count())"
   ]
  },
  {
   "cell_type": "code",
   "execution_count": 46,
   "id": "21617df2-606b-48f8-9a69-cdc98640afc3",
   "metadata": {
    "execution": {
     "iopub.execute_input": "2024-02-11T04:11:55.895050Z",
     "iopub.status.busy": "2024-02-11T04:11:55.894829Z",
     "iopub.status.idle": "2024-02-11T04:12:15.207233Z",
     "shell.execute_reply": "2024-02-11T04:12:15.206471Z",
     "shell.execute_reply.started": "2024-02-11T04:11:55.895025Z"
    },
    "tags": []
   },
   "outputs": [
    {
     "data": {
      "application/vnd.jupyter.widget-view+json": {
       "model_id": "99563913fb37440fb18c6ff625960d11",
       "version_major": 2,
       "version_minor": 0
      },
      "text/plain": [
       "VBox()"
      ]
     },
     "metadata": {},
     "output_type": "display_data"
    },
    {
     "data": {
      "application/vnd.jupyter.widget-view+json": {
       "model_id": "",
       "version_major": 2,
       "version_minor": 0
      },
      "text/plain": [
       "FloatProgress(value=0.0, bar_style='info', description='Progress:', layout=Layout(height='25px', width='50%'),…"
      ]
     },
     "metadata": {},
     "output_type": "display_data"
    },
    {
     "name": "stdout",
     "output_type": "stream",
     "text": [
      "165647"
     ]
    }
   ],
   "source": [
    "product_df.select('product_id').distinct().count()"
   ]
  },
  {
   "cell_type": "code",
   "execution_count": 23,
   "id": "ff2c3f39-f447-4534-9d34-f21475d30bc2",
   "metadata": {
    "execution": {
     "iopub.execute_input": "2024-02-06T07:29:53.952819Z",
     "iopub.status.busy": "2024-02-06T07:29:53.952588Z",
     "iopub.status.idle": "2024-02-06T07:30:05.253734Z",
     "shell.execute_reply": "2024-02-06T07:30:05.252922Z",
     "shell.execute_reply.started": "2024-02-06T07:29:53.952793Z"
    }
   },
   "outputs": [
    {
     "data": {
      "application/vnd.jupyter.widget-view+json": {
       "model_id": "17d7154ccfb34d15bffdb26ee5b69552",
       "version_major": 2,
       "version_minor": 0
      },
      "text/plain": [
       "VBox()"
      ]
     },
     "metadata": {},
     "output_type": "display_data"
    },
    {
     "data": {
      "application/vnd.jupyter.widget-view+json": {
       "model_id": "",
       "version_major": 2,
       "version_minor": 0
      },
      "text/plain": [
       "FloatProgress(value=0.0, bar_style='info', description='Progress:', layout=Layout(height='25px', width='50%'),…"
      ]
     },
     "metadata": {},
     "output_type": "display_data"
    },
    {
     "name": "stdout",
     "output_type": "stream",
     "text": [
      "166794"
     ]
    }
   ],
   "source": [
    "df.select('product_id').distinct().count()"
   ]
  },
  {
   "cell_type": "code",
   "execution_count": 24,
   "id": "2af8d6d6-2c8c-4930-9226-ed785461eeb9",
   "metadata": {
    "execution": {
     "iopub.execute_input": "2024-02-06T07:33:21.520205Z",
     "iopub.status.busy": "2024-02-06T07:33:21.519980Z",
     "iopub.status.idle": "2024-02-06T07:35:13.101016Z",
     "shell.execute_reply": "2024-02-06T07:35:13.100317Z",
     "shell.execute_reply.started": "2024-02-06T07:33:21.520180Z"
    },
    "tags": []
   },
   "outputs": [
    {
     "data": {
      "application/vnd.jupyter.widget-view+json": {
       "model_id": "4a97ec00f00944fbac7657c7e53796d8",
       "version_major": 2,
       "version_minor": 0
      },
      "text/plain": [
       "VBox()"
      ]
     },
     "metadata": {},
     "output_type": "display_data"
    },
    {
     "data": {
      "application/vnd.jupyter.widget-view+json": {
       "model_id": "",
       "version_major": 2,
       "version_minor": 0
      },
      "text/plain": [
       "FloatProgress(value=0.0, bar_style='info', description='Progress:', layout=Layout(height='25px', width='50%'),…"
      ]
     },
     "metadata": {},
     "output_type": "display_data"
    },
    {
     "name": "stdout",
     "output_type": "stream",
     "text": [
      "Number of partitions: 43\n",
      "Size of each partition: [1004867, 1004988, 1002792, 1002843, 999910, 1001146, 1002615, 1007353, 1008107, 1013699, 1012731, 1010320, 1007983, 1009704, 1009447, 1010788, 1009214, 1001178, 1001210, 999010, 1002219, 1002947, 1001996, 1005158, 1005846, 1002482, 1003924, 1006213, 1004098, 1003501, 1005383, 1004993, 1002506, 1003703, 1004324, 1002924, 999663, 1006479, 1007015, 1006940, 1005203, 1004999, 236343]"
     ]
    }
   ],
   "source": [
    "# Get the number of partitions\n",
    "num_partitions = df.rdd.getNumPartitions()\n",
    "print(\"Number of partitions:\", num_partitions)\n",
    "\n",
    "# Calculate the size of each partition\n",
    "partition_sizes = df.rdd.mapPartitions(lambda it: [sum(1 for _ in it)])\n",
    "print(\"Size of each partition:\", partition_sizes.collect())"
   ]
  },
  {
   "cell_type": "code",
   "execution_count": 48,
   "id": "07a93784-b55e-4a3d-b2c2-ab63533ce2ce",
   "metadata": {
    "execution": {
     "iopub.execute_input": "2024-02-11T04:13:49.335373Z",
     "iopub.status.busy": "2024-02-11T04:13:49.335130Z",
     "iopub.status.idle": "2024-02-11T04:14:20.680130Z",
     "shell.execute_reply": "2024-02-11T04:14:20.679461Z",
     "shell.execute_reply.started": "2024-02-11T04:13:49.335340Z"
    },
    "tags": []
   },
   "outputs": [
    {
     "data": {
      "application/vnd.jupyter.widget-view+json": {
       "model_id": "7483566224da47128fb9c1b711d95317",
       "version_major": 2,
       "version_minor": 0
      },
      "text/plain": [
       "VBox()"
      ]
     },
     "metadata": {},
     "output_type": "display_data"
    },
    {
     "data": {
      "application/vnd.jupyter.widget-view+json": {
       "model_id": "",
       "version_major": 2,
       "version_minor": 0
      },
      "text/plain": [
       "FloatProgress(value=0.0, bar_style='info', description='Progress:', layout=Layout(height='25px', width='50%'),…"
      ]
     },
     "metadata": {},
     "output_type": "display_data"
    }
   ],
   "source": [
    "product_df = product_df.select('product_id', 'category_code', 'brand', 'price')\n",
    "product_df = product_df.coalesce(1)\n",
    "\n",
    "product_df.write.format('parquet') \\\n",
    "    .option(\"compression\", \"snappy\")\\\n",
    "    .option(\"path\", \"s3://emr-spark-bucket-1/cleaned/products\")\\\n",
    "    .bucketBy(3, 'product_id').sortBy(\"product_id\") \\\n",
    "    .mode(\"overwrite\") \\\n",
    "    .saveAsTable('products')"
   ]
  },
  {
   "cell_type": "code",
   "execution_count": 49,
   "id": "4908d934-95dd-4301-ab94-a919b295fbf6",
   "metadata": {
    "execution": {
     "iopub.execute_input": "2024-02-11T04:16:43.688375Z",
     "iopub.status.busy": "2024-02-11T04:16:43.688132Z",
     "iopub.status.idle": "2024-02-11T04:18:09.188960Z",
     "shell.execute_reply": "2024-02-11T04:18:09.188149Z",
     "shell.execute_reply.started": "2024-02-11T04:16:43.688348Z"
    },
    "tags": []
   },
   "outputs": [
    {
     "data": {
      "application/vnd.jupyter.widget-view+json": {
       "model_id": "d447e75396d1492d83d0869a9d007436",
       "version_major": 2,
       "version_minor": 0
      },
      "text/plain": [
       "VBox()"
      ]
     },
     "metadata": {},
     "output_type": "display_data"
    },
    {
     "data": {
      "application/vnd.jupyter.widget-view+json": {
       "model_id": "",
       "version_major": 2,
       "version_minor": 0
      },
      "text/plain": [
       "FloatProgress(value=0.0, bar_style='info', description='Progress:', layout=Layout(height='25px', width='50%'),…"
      ]
     },
     "metadata": {},
     "output_type": "display_data"
    }
   ],
   "source": [
    "user_df = df.select('user_session','user_id').dropDuplicates(['user_session'])\n",
    "\n",
    "user_df = user_df.coalesce(1)\n",
    "\n",
    "user_df.write.format('parquet') \\\n",
    "    .option(\"compression\", \"snappy\")\\\n",
    "    .option(\"path\", \"s3://emr-spark-bucket-1/cleaned/sessions\")\\\n",
    "    .bucketBy(3, 'user_session').sortBy(\"user_session\") \\\n",
    "    .mode(\"overwrite\") \\\n",
    "    .saveAsTable('sessions')"
   ]
  },
  {
   "cell_type": "code",
   "execution_count": 42,
   "id": "5db58165-3cf2-4112-a52a-e08f2ab3b6be",
   "metadata": {
    "execution": {
     "iopub.execute_input": "2024-02-06T08:40:02.351957Z",
     "iopub.status.busy": "2024-02-06T08:40:02.351713Z",
     "iopub.status.idle": "2024-02-06T08:40:15.655849Z",
     "shell.execute_reply": "2024-02-06T08:40:15.654282Z",
     "shell.execute_reply.started": "2024-02-06T08:40:02.351931Z"
    },
    "tags": []
   },
   "outputs": [
    {
     "data": {
      "application/vnd.jupyter.widget-view+json": {
       "model_id": "dd85169540d24c36ae80d19ce2da25e3",
       "version_major": 2,
       "version_minor": 0
      },
      "text/plain": [
       "VBox()"
      ]
     },
     "metadata": {},
     "output_type": "display_data"
    },
    {
     "data": {
      "application/vnd.jupyter.widget-view+json": {
       "model_id": "",
       "version_major": 2,
       "version_minor": 0
      },
      "text/plain": [
       "FloatProgress(value=0.0, bar_style='info', description='Progress:', layout=Layout(height='25px', width='50%'),…"
      ]
     },
     "metadata": {},
     "output_type": "display_data"
    },
    {
     "name": "stdout",
     "output_type": "stream",
     "text": [
      "Number of Rows: 3022290"
     ]
    }
   ],
   "source": [
    "# user_df = df.select('user_session','user_id').dropDuplicates(['user_id'])\n",
    "# print(\"Number of Rows:\", user_df.count())"
   ]
  },
  {
   "cell_type": "code",
   "execution_count": 51,
   "id": "5fb4a65d-36ef-4fe7-bc4f-77d84c6eb9ad",
   "metadata": {
    "execution": {
     "iopub.execute_input": "2024-02-11T04:19:48.414674Z",
     "iopub.status.busy": "2024-02-11T04:19:48.414448Z",
     "iopub.status.idle": "2024-02-11T04:22:02.006776Z",
     "shell.execute_reply": "2024-02-11T04:22:02.006106Z",
     "shell.execute_reply.started": "2024-02-11T04:19:48.414648Z"
    },
    "tags": []
   },
   "outputs": [
    {
     "data": {
      "application/vnd.jupyter.widget-view+json": {
       "model_id": "5eeabbadf15540a480d5a2c2cb5ca05c",
       "version_major": 2,
       "version_minor": 0
      },
      "text/plain": [
       "VBox()"
      ]
     },
     "metadata": {},
     "output_type": "display_data"
    },
    {
     "data": {
      "application/vnd.jupyter.widget-view+json": {
       "model_id": "",
       "version_major": 2,
       "version_minor": 0
      },
      "text/plain": [
       "FloatProgress(value=0.0, bar_style='info', description='Progress:', layout=Layout(height='25px', width='50%'),…"
      ]
     },
     "metadata": {},
     "output_type": "display_data"
    }
   ],
   "source": [
    "events = df.select('event_time','event_type','product_id','user_session')\n",
    "\n",
    "\n",
    "events = events.coalesce(5)\n",
    "\n",
    "events.write.format('parquet') \\\n",
    "    .option(\"compression\", \"snappy\")\\\n",
    "    .option(\"path\", \"s3://emr-spark-bucket-1/cleaned/events\")\\\n",
    "    .bucketBy(3, 'product_id', 'user_session').sortBy(\"product_id\", 'user_session') \\\n",
    "    .mode(\"overwrite\") \\\n",
    "    .saveAsTable('events')"
   ]
  },
  {
   "cell_type": "markdown",
   "id": "001a40e6-97c0-46a7-b09d-b1fe175b531e",
   "metadata": {},
   "source": [
    "As you can see, we have just saved a lot of space, which will be very handy for this e-commerce store if it wants to scale the database and start storing other data points (such as traffic sources, cost of goods sold, etc).\n",
    "\n",
    "And now that we have prepped the data, let's finally start squeezing the numbers to find some insights.\n",
    "\n",
    "***\n",
    "\n",
    "\n",
    "<h2> Product Intelligence </h2>\n",
    "\n",
    "\n",
    "<h3> Highest Grossing Product </h3>\n",
    "\n",
    "To start off our analysis, let's find out what are the top 10 highest-grossing products from our store, that is, the products that makes the most amount of money in terms of revenue..."
   ]
  },
  {
   "cell_type": "code",
   "execution_count": 52,
   "id": "0ed58ee2-ff4f-4287-af83-75102803b162",
   "metadata": {
    "execution": {
     "iopub.execute_input": "2024-02-11T04:23:02.237506Z",
     "iopub.status.busy": "2024-02-11T04:23:02.237286Z",
     "iopub.status.idle": "2024-02-11T04:23:09.511221Z",
     "shell.execute_reply": "2024-02-11T04:23:09.510430Z",
     "shell.execute_reply.started": "2024-02-11T04:23:02.237481Z"
    },
    "tags": []
   },
   "outputs": [
    {
     "data": {
      "application/vnd.jupyter.widget-view+json": {
       "model_id": "cc2919ac6d0b468eaadf80582c9efdbb",
       "version_major": 2,
       "version_minor": 0
      },
      "text/plain": [
       "VBox()"
      ]
     },
     "metadata": {},
     "output_type": "display_data"
    },
    {
     "data": {
      "application/vnd.jupyter.widget-view+json": {
       "model_id": "",
       "version_major": 2,
       "version_minor": 0
      },
      "text/plain": [
       "FloatProgress(value=0.0, bar_style='info', description='Progress:', layout=Layout(height='25px', width='50%'),…"
      ]
     },
     "metadata": {},
     "output_type": "display_data"
    }
   ],
   "source": [
    "from pyspark.sql.functions import col, sum, when, lit, round, collect_list, count, size\n",
    "import matplotlib.pyplot as plt"
   ]
  },
  {
   "cell_type": "code",
   "execution_count": 53,
   "id": "6049c4bd-0560-46b1-a778-8394e932efb1",
   "metadata": {
    "execution": {
     "iopub.execute_input": "2024-02-11T04:23:11.800388Z",
     "iopub.status.busy": "2024-02-11T04:23:11.800153Z",
     "iopub.status.idle": "2024-02-11T04:23:19.075694Z",
     "shell.execute_reply": "2024-02-11T04:23:19.075013Z",
     "shell.execute_reply.started": "2024-02-11T04:23:11.800360Z"
    },
    "tags": []
   },
   "outputs": [
    {
     "data": {
      "application/vnd.jupyter.widget-view+json": {
       "model_id": "3ed762278d35408c823d19df643716fd",
       "version_major": 2,
       "version_minor": 0
      },
      "text/plain": [
       "VBox()"
      ]
     },
     "metadata": {},
     "output_type": "display_data"
    },
    {
     "data": {
      "application/vnd.jupyter.widget-view+json": {
       "model_id": "",
       "version_major": 2,
       "version_minor": 0
      },
      "text/plain": [
       "FloatProgress(value=0.0, bar_style='info', description='Progress:', layout=Layout(height='25px', width='50%'),…"
      ]
     },
     "metadata": {},
     "output_type": "display_data"
    }
   ],
   "source": [
    "# Read the Parquet files with options\n",
    "products = spark.read \\\n",
    "    .option(\"inferSchema\", \"true\") \\\n",
    "    .option(\"header\", \"true\") \\\n",
    "    .parquet(\"s3://emr-spark-bucket-1/cleaned/products/\")\n",
    "\n",
    "# Read the Parquet files with options\n",
    "events = spark.read \\\n",
    "    .option(\"inferSchema\", \"true\") \\\n",
    "    .option(\"header\", \"true\") \\\n",
    "    .parquet(\"s3://emr-spark-bucket-1/cleaned/events/\")"
   ]
  },
  {
   "cell_type": "code",
   "execution_count": 54,
   "id": "5b08cc12-8b11-47c8-af91-ee8f50fc7e2c",
   "metadata": {
    "execution": {
     "iopub.execute_input": "2024-02-11T04:23:25.683066Z",
     "iopub.status.busy": "2024-02-11T04:23:25.682831Z",
     "iopub.status.idle": "2024-02-11T04:23:38.984455Z",
     "shell.execute_reply": "2024-02-11T04:23:38.983676Z",
     "shell.execute_reply.started": "2024-02-11T04:23:25.683041Z"
    },
    "tags": []
   },
   "outputs": [
    {
     "data": {
      "application/vnd.jupyter.widget-view+json": {
       "model_id": "7ed7c712d0554bb9b6ccc76b9a600faa",
       "version_major": 2,
       "version_minor": 0
      },
      "text/plain": [
       "VBox()"
      ]
     },
     "metadata": {},
     "output_type": "display_data"
    },
    {
     "data": {
      "application/vnd.jupyter.widget-view+json": {
       "model_id": "",
       "version_major": 2,
       "version_minor": 0
      },
      "text/plain": [
       "FloatProgress(value=0.0, bar_style='info', description='Progress:', layout=Layout(height='25px', width='50%'),…"
      ]
     },
     "metadata": {},
     "output_type": "display_data"
    },
    {
     "name": "stdout",
     "output_type": "stream",
     "text": [
      "+-------------------+----------+----------+------------------------------------+----------------------+-------+-------+\n",
      "|event_time         |event_type|product_id|user_session                        |category_code         |brand  |price  |\n",
      "+-------------------+----------+----------+------------------------------------+----------------------+-------+-------+\n",
      "|2019-10-26 08:40:21|view      |1000978   |008bd148-aca6-4b64-aa75-f363813b796a|electronics.smartphone|samsung|321.841|\n",
      "|2019-10-23 05:58:36|view      |1000978   |013d4837-1e7f-4533-b46f-ff2bc57e2040|electronics.smartphone|samsung|321.841|\n",
      "|2019-10-22 20:23:42|view      |1000978   |043b0b92-a2fc-431f-bec4-abe4207e15cf|electronics.smartphone|samsung|321.841|\n",
      "|2019-10-22 20:27:02|view      |1000978   |043b0b92-a2fc-431f-bec4-abe4207e15cf|electronics.smartphone|samsung|321.841|\n",
      "|2019-10-22 20:27:13|view      |1000978   |043b0b92-a2fc-431f-bec4-abe4207e15cf|electronics.smartphone|samsung|321.841|\n",
      "|2019-10-30 21:24:48|view      |1000978   |045e7b65-6f63-4b4e-8588-a8e3981719de|electronics.smartphone|samsung|321.841|\n",
      "|2019-10-23 01:58:39|view      |1000978   |05a1cb21-d4e4-499c-9bca-733ffa2af909|electronics.smartphone|samsung|321.841|\n",
      "|2019-10-23 01:58:52|view      |1000978   |05a1cb21-d4e4-499c-9bca-733ffa2af909|electronics.smartphone|samsung|321.841|\n",
      "|2019-10-26 13:45:58|view      |1000978   |06f65883-eae8-42c7-85d2-662433d86c59|electronics.smartphone|samsung|321.841|\n",
      "|2019-10-30 15:10:48|view      |1000978   |08af32ca-07a0-4d52-af23-9582a8e73cc0|electronics.smartphone|samsung|321.841|\n",
      "|2019-10-30 15:11:49|view      |1000978   |08af32ca-07a0-4d52-af23-9582a8e73cc0|electronics.smartphone|samsung|321.841|\n",
      "|2019-10-27 01:06:59|view      |1000978   |0b806c31-4a9c-4676-b2a1-34ca0a49b686|electronics.smartphone|samsung|321.841|\n",
      "|2019-10-30 20:19:42|view      |1000978   |0b817c3a-04d1-4b8e-9211-fbd59735d2b5|electronics.smartphone|samsung|321.841|\n",
      "|2019-10-22 18:21:01|view      |1000978   |0c89b171-e272-4f0c-b0d6-bc9ae8a0b8d8|electronics.smartphone|samsung|321.841|\n",
      "|2019-10-22 21:02:23|view      |1000978   |0dc58bd1-fc9a-4f5d-a437-d0d683359f6e|electronics.smartphone|samsung|321.841|\n",
      "|2019-10-22 16:52:07|view      |1000978   |0eac4fa9-3542-4b1e-b5a7-7546f1e1e633|electronics.smartphone|samsung|321.841|\n",
      "|2019-10-22 16:53:13|view      |1000978   |0eac4fa9-3542-4b1e-b5a7-7546f1e1e633|electronics.smartphone|samsung|321.841|\n",
      "|2019-10-26 18:38:04|view      |1000978   |1003a890-ddb4-4705-8c06-0156632ecf59|electronics.smartphone|samsung|321.841|\n",
      "|2019-10-26 18:38:26|view      |1000978   |1003a890-ddb4-4705-8c06-0156632ecf59|electronics.smartphone|samsung|321.841|\n",
      "|2019-10-22 18:31:45|view      |1000978   |105d9aaa-5ada-4fdf-9e2e-8c0626a24ced|electronics.smartphone|samsung|321.841|\n",
      "+-------------------+----------+----------+------------------------------------+----------------------+-------+-------+\n",
      "only showing top 20 rows"
     ]
    }
   ],
   "source": [
    "# 1. Left join events and products DataFrames\n",
    "events_on_products = events.join(products, events.product_id == products.product_id, \"left\").drop(products.product_id)\n",
    "\n",
    "events_on_products.cache()\n",
    "\n",
    "events_on_products.show(truncate=False)"
   ]
  },
  {
   "cell_type": "code",
   "execution_count": 55,
   "id": "be09ee25-0692-4e17-96c8-33b8d868530c",
   "metadata": {
    "execution": {
     "iopub.execute_input": "2024-02-11T04:23:46.576780Z",
     "iopub.status.busy": "2024-02-11T04:23:46.576544Z",
     "iopub.status.idle": "2024-02-11T04:24:21.932599Z",
     "shell.execute_reply": "2024-02-11T04:24:21.931868Z",
     "shell.execute_reply.started": "2024-02-11T04:23:46.576754Z"
    },
    "tags": []
   },
   "outputs": [
    {
     "data": {
      "application/vnd.jupyter.widget-view+json": {
       "model_id": "6a9fdf6111aa4daea74a4d56c945c434",
       "version_major": 2,
       "version_minor": 0
      },
      "text/plain": [
       "VBox()"
      ]
     },
     "metadata": {},
     "output_type": "display_data"
    },
    {
     "data": {
      "application/vnd.jupyter.widget-view+json": {
       "model_id": "",
       "version_major": 2,
       "version_minor": 0
      },
      "text/plain": [
       "FloatProgress(value=0.0, bar_style='info', description='Progress:', layout=Layout(height='25px', width='50%'),…"
      ]
     },
     "metadata": {},
     "output_type": "display_data"
    }
   ],
   "source": [
    "# 2. Filter for rows where the event type is 'purchase'\n",
    "purchase_events = events_on_products.filter(col(\"event_type\") == \"purchase\")\n",
    "\n",
    "# 3. Group by 'product_id' and sum the 'price'\n",
    "revenue_per_product = purchase_events.groupby(\"product_id\").agg(sum(\"price\").alias(\"total_revenue\"))\n",
    "\n",
    "# 4. Sort the results by total revenue in descending order\n",
    "top_10_products = revenue_per_product.orderBy(col(\"total_revenue\").desc()).limit(10)\n",
    "\n",
    "# 5. Collect the top 10 products as a Pandas DataFrame\n",
    "top_10_products_df = top_10_products.toPandas()\n",
    "\n",
    "\n"
   ]
  },
  {
   "cell_type": "code",
   "execution_count": 61,
   "id": "8825765f-5d30-43bc-ae81-13a5530077bd",
   "metadata": {
    "execution": {
     "iopub.execute_input": "2024-02-11T04:26:34.134876Z",
     "iopub.status.busy": "2024-02-11T04:26:34.134645Z",
     "iopub.status.idle": "2024-02-11T04:26:34.398014Z",
     "shell.execute_reply": "2024-02-11T04:26:34.397229Z",
     "shell.execute_reply.started": "2024-02-11T04:26:34.134849Z"
    },
    "tags": []
   },
   "outputs": [
    {
     "data": {
      "application/vnd.jupyter.widget-view+json": {
       "model_id": "0790996d0ebf4ff1842264b976f67a4b",
       "version_major": 2,
       "version_minor": 0
      },
      "text/plain": [
       "VBox()"
      ]
     },
     "metadata": {},
     "output_type": "display_data"
    },
    {
     "data": {
      "application/vnd.jupyter.widget-view+json": {
       "model_id": "",
       "version_major": 2,
       "version_minor": 0
      },
      "text/plain": [
       "FloatProgress(value=0.0, bar_style='info', description='Progress:', layout=Layout(height='25px', width='50%'),…"
      ]
     },
     "metadata": {},
     "output_type": "display_data"
    },
    {
     "data": {
      "image/png": "[encoded data removed]",
      "text/plain": [
       "<IPython.core.display.Image object>"
      ]
     },
     "metadata": {},
     "output_type": "display_data"
    }
   ],
   "source": [
    "# 6. Plot the results using Matplotlib\n",
    "top_10_products_df.plot(kind='bar', x='product_id', y='total_revenue', title='Top 10 Products By Revenue',\n",
    "                        xlabel='Product ID', ylabel='Total Revenue ($)')\n",
    "\n",
    "plt.xticks(rotation=15)\n",
    "plt.show()\n",
    "%matplot plt"
   ]
  },
  {
   "cell_type": "markdown",
   "id": "7448a4c6-723e-494c-9efa-b6207c238a37",
   "metadata": {},
   "source": [
    "<h3 > Highest Earnings Per Session </h3>\n",
    "\n",
    "Now, total revenue is not a meaningful metric on its own, especially if we ignore the number of sessions that landed on the product page.\n",
    "\n",
    "After all, if you are sending a lot of traffic to a page that is doing a poor job at converting users, you could easily be leaving money on the table.\n",
    "\n",
    "So, to account for the fact that different products have different conversion rates, let's find out what are the top products by earnings per session."
   ]
  },
  {
   "cell_type": "code",
   "execution_count": 57,
   "id": "1fa9c25c-dc79-43f3-8102-473dcd4a4095",
   "metadata": {
    "execution": {
     "iopub.execute_input": "2024-02-11T04:25:10.969127Z",
     "iopub.status.busy": "2024-02-11T04:25:10.968809Z",
     "iopub.status.idle": "2024-02-11T04:25:18.244641Z",
     "shell.execute_reply": "2024-02-11T04:25:18.243809Z",
     "shell.execute_reply.started": "2024-02-11T04:25:10.969085Z"
    },
    "tags": []
   },
   "outputs": [
    {
     "data": {
      "application/vnd.jupyter.widget-view+json": {
       "model_id": "fc22eee1126844a9a5257dccee0448fe",
       "version_major": 2,
       "version_minor": 0
      },
      "text/plain": [
       "VBox()"
      ]
     },
     "metadata": {},
     "output_type": "display_data"
    },
    {
     "data": {
      "application/vnd.jupyter.widget-view+json": {
       "model_id": "",
       "version_major": 2,
       "version_minor": 0
      },
      "text/plain": [
       "FloatProgress(value=0.0, bar_style='info', description='Progress:', layout=Layout(height='25px', width='50%'),…"
      ]
     },
     "metadata": {},
     "output_type": "display_data"
    }
   ],
   "source": [
    "# Define the condition\n",
    "view_condition = (col('event_type') == 'view')\n",
    "purchase_condition =  (col('event_type') == 'purchase')\n",
    "\n",
    "# Group by 'group' column and filter rows based on the condition, then perform aggregation\n",
    "revenue_and_views  = events_on_products.groupBy('product_id') \\\n",
    "    .agg(sum(when(purchase_condition, col('price')).otherwise(lit(0))).alias('total_revenue'),\n",
    "        sum(when(view_condition, lit(1)).otherwise(lit(0))).alias('total_views'),\n",
    "        sum(when(purchase_condition, lit(1)).otherwise(lit(0))).alias('total_purchases'))\\\n",
    "    .withColumn(\"revenue_per_view\", round(col('total_revenue') / col('total_views'), 3))\\\n",
    "    .orderBy(col(\"revenue_per_view\").desc())\n",
    "\n",
    "revenue_and_views_pd = revenue_and_views.toPandas()\n"
   ]
  },
  {
   "cell_type": "code",
   "execution_count": 58,
   "id": "fb727c07-6c45-47a5-bc77-cf7238f98965",
   "metadata": {
    "execution": {
     "iopub.execute_input": "2024-02-11T04:25:21.629691Z",
     "iopub.status.busy": "2024-02-11T04:25:21.629464Z",
     "iopub.status.idle": "2024-02-11T04:25:24.899005Z",
     "shell.execute_reply": "2024-02-11T04:25:24.898397Z",
     "shell.execute_reply.started": "2024-02-11T04:25:21.629667Z"
    },
    "tags": []
   },
   "outputs": [
    {
     "data": {
      "application/vnd.jupyter.widget-view+json": {
       "model_id": "a6c0eaa0dd4b46ed8572bd5653a8b28c",
       "version_major": 2,
       "version_minor": 0
      },
      "text/plain": [
       "VBox()"
      ]
     },
     "metadata": {},
     "output_type": "display_data"
    },
    {
     "data": {
      "application/vnd.jupyter.widget-view+json": {
       "model_id": "",
       "version_major": 2,
       "version_minor": 0
      },
      "text/plain": [
       "FloatProgress(value=0.0, bar_style='info', description='Progress:', layout=Layout(height='25px', width='50%'),…"
      ]
     },
     "metadata": {},
     "output_type": "display_data"
    },
    {
     "name": "stdout",
     "output_type": "stream",
     "text": [
      "+----------+------------------+-----------+---------------+----------------+\n",
      "|product_id|     total_revenue|total_views|total_purchases|revenue_per_view|\n",
      "+----------+------------------+-----------+---------------+----------------+\n",
      "|  12720438|            670.28|          2|              2|          335.14|\n",
      "|  20500270|            308.63|          1|              1|          308.63|\n",
      "|  26205483|            271.03|          1|              1|          271.03|\n",
      "|  21405915|            270.79|          1|              1|          270.79|\n",
      "|  14701426|             245.8|          1|              1|           245.8|\n",
      "|  12716845|            244.02|          1|              1|          244.02|\n",
      "|   4201530|23128.049999999996|        107|             15|          216.15|\n",
      "|   1801789|          3586.656|         17|              2|          210.98|\n",
      "|   8500472|          6098.448|         29|              3|         210.291|\n",
      "|  28102364|           1482.68|          8|              4|         185.335|\n",
      "|   4201539|           8492.88|         51|              6|         166.527|\n",
      "|  12716827|            314.04|          2|              1|          157.02|\n",
      "|  13103009|4507.6900000000005|         30|             11|         150.256|\n",
      "|   7006428|            2290.9|         16|              5|         143.181|\n",
      "|  19100291|           3088.88|         23|              4|         134.299|\n",
      "|  26404041|           1405.14|         11|              1|          127.74|\n",
      "|   4201541|          74563.05|        636|             83|         117.238|\n",
      "|  20500512|            437.33|          4|              1|         109.333|\n",
      "|  21407327|           1409.56|         13|              1|         108.428|\n",
      "|   1307227|28305.749999999996|        269|             15|         105.226|\n",
      "+----------+------------------+-----------+---------------+----------------+\n",
      "only showing top 20 rows"
     ]
    }
   ],
   "source": [
    "revenue_and_views.show()"
   ]
  },
  {
   "cell_type": "markdown",
   "id": "95303ba8-8f9f-4933-9d24-fc19b38d8ed7",
   "metadata": {},
   "source": [
    "<h3> Conversion Rates Per Product </h3>\n",
    "\n",
    "We can also find out what are the products with the highest conversion rates, since these products could also be worth pushing traffic to and their landing page designs be used as controls in A/B split tests.\n",
    "\n",
    "So let's discover what are the top 10 products with the highest conversion rates given that the products is viewed at least 5 times."
   ]
  },
  {
   "cell_type": "code",
   "execution_count": 62,
   "id": "e43dc04c-9753-488f-8f26-70ebef2c1a6a",
   "metadata": {
    "execution": {
     "iopub.execute_input": "2024-02-11T04:27:46.403980Z",
     "iopub.status.busy": "2024-02-11T04:27:46.403716Z",
     "iopub.status.idle": "2024-02-11T04:27:49.675098Z",
     "shell.execute_reply": "2024-02-11T04:27:49.674364Z",
     "shell.execute_reply.started": "2024-02-11T04:27:46.403952Z"
    },
    "tags": []
   },
   "outputs": [
    {
     "data": {
      "application/vnd.jupyter.widget-view+json": {
       "model_id": "ae86cc43bcf94dc4b07530fabe5c9098",
       "version_major": 2,
       "version_minor": 0
      },
      "text/plain": [
       "VBox()"
      ]
     },
     "metadata": {},
     "output_type": "display_data"
    },
    {
     "data": {
      "application/vnd.jupyter.widget-view+json": {
       "model_id": "",
       "version_major": 2,
       "version_minor": 0
      },
      "text/plain": [
       "FloatProgress(value=0.0, bar_style='info', description='Progress:', layout=Layout(height='25px', width='50%'),…"
      ]
     },
     "metadata": {},
     "output_type": "display_data"
    },
    {
     "name": "stdout",
     "output_type": "stream",
     "text": [
      "+----------+------------------+-----------+---------------+----------------+-------------------+\n",
      "|product_id|     total_revenue|total_views|total_purchases|revenue_per_view|    conversion_rate|\n",
      "+----------+------------------+-----------+---------------+----------------+-------------------+\n",
      "|  26009581|             29.46|          5|              3|           5.892|                0.6|\n",
      "|  50300425|              30.9|         11|              6|           2.809| 0.5454545454545454|\n",
      "|  28102364|           1482.68|          8|              4|         185.335|                0.5|\n",
      "|  12718754|             863.6|         11|              5|          78.509|0.45454545454545453|\n",
      "|  10800091|              27.8|          5|              2|            5.56|                0.4|\n",
      "|  28101594|264.09000000000003|          8|              3|          33.011|              0.375|\n",
      "|  13103009|4507.6900000000005|         30|             11|         150.256|0.36666666666666664|\n",
      "|  26010152|2.9699999999999998|          9|              3|            0.33| 0.3333333333333333|\n",
      "|  26205564|             25.74|          6|              2|            4.29| 0.3333333333333333|\n",
      "|  12900186|            47.852|         12|              4|           3.988| 0.3333333333333333|\n",
      "|  38500190|             11.62|          6|              2|           1.937| 0.3333333333333333|\n",
      "|  24600300|            16.782|          6|              2|           2.797| 0.3333333333333333|\n",
      "|  12718583|             83.92|          6|              2|          13.987| 0.3333333333333333|\n",
      "|   7300374|           284.622|         19|              6|           14.98| 0.3157894736842105|\n",
      "|   7006428|            2290.9|         16|              5|         143.181|             0.3125|\n",
      "|  12707013|           1276.08|         13|              4|           98.16| 0.3076923076923077|\n",
      "|  12702994|1419.8799999999999|         23|              7|          61.734|0.30434782608695654|\n",
      "|  26016669|             27.38|          7|              2|           3.911| 0.2857142857142857|\n",
      "|   5400504|           268.248|         14|              4|          19.161| 0.2857142857142857|\n",
      "|  12700731|             76.22|          7|              2|          10.889| 0.2857142857142857|\n",
      "+----------+------------------+-----------+---------------+----------------+-------------------+\n",
      "only showing top 20 rows"
     ]
    }
   ],
   "source": [
    "conversation_rate = revenue_and_views.filter(col('total_views') >= 5) \\\n",
    "    .withColumn(\"conversion_rate\", col('total_purchases') / col('total_views')) \\\n",
    "    .orderBy(col(\"conversion_rate\").desc()) \\\n",
    "\n",
    "                                            \n",
    "conversation_rate.show()"
   ]
  },
  {
   "cell_type": "code",
   "execution_count": 64,
   "id": "130e514a-eda0-47a6-bda1-4a7558f8246e",
   "metadata": {
    "execution": {
     "iopub.execute_input": "2024-02-11T04:28:17.658391Z",
     "iopub.status.busy": "2024-02-11T04:28:17.658169Z",
     "iopub.status.idle": "2024-02-11T04:28:18.412339Z",
     "shell.execute_reply": "2024-02-11T04:28:18.411626Z",
     "shell.execute_reply.started": "2024-02-11T04:28:17.658366Z"
    },
    "tags": []
   },
   "outputs": [
    {
     "data": {
      "application/vnd.jupyter.widget-view+json": {
       "model_id": "ac6cf894bc9d4cd2abcaaf94c0e5042d",
       "version_major": 2,
       "version_minor": 0
      },
      "text/plain": [
       "VBox()"
      ]
     },
     "metadata": {},
     "output_type": "display_data"
    },
    {
     "data": {
      "application/vnd.jupyter.widget-view+json": {
       "model_id": "",
       "version_major": 2,
       "version_minor": 0
      },
      "text/plain": [
       "FloatProgress(value=0.0, bar_style='info', description='Progress:', layout=Layout(height='25px', width='50%'),…"
      ]
     },
     "metadata": {},
     "output_type": "display_data"
    }
   ],
   "source": [
    "sessions = spark.read \\\n",
    "    .option(\"inferSchema\", \"true\") \\\n",
    "    .option(\"header\", \"true\") \\\n",
    "    .parquet(\"s3://emr-spark-bucket-1/cleaned/sessions/\")"
   ]
  },
  {
   "cell_type": "code",
   "execution_count": 68,
   "id": "8d397e9b-9bf3-480b-9e06-2b70d5086128",
   "metadata": {
    "execution": {
     "iopub.execute_input": "2024-02-11T04:30:55.523840Z",
     "iopub.status.busy": "2024-02-11T04:30:55.523616Z",
     "iopub.status.idle": "2024-02-11T04:31:08.822914Z",
     "shell.execute_reply": "2024-02-11T04:31:08.822131Z",
     "shell.execute_reply.started": "2024-02-11T04:30:55.523816Z"
    },
    "tags": []
   },
   "outputs": [
    {
     "data": {
      "application/vnd.jupyter.widget-view+json": {
       "model_id": "04924493a7e34a42ba657af71f9bb26d",
       "version_major": 2,
       "version_minor": 0
      },
      "text/plain": [
       "VBox()"
      ]
     },
     "metadata": {},
     "output_type": "display_data"
    },
    {
     "data": {
      "application/vnd.jupyter.widget-view+json": {
       "model_id": "",
       "version_major": 2,
       "version_minor": 0
      },
      "text/plain": [
       "FloatProgress(value=0.0, bar_style='info', description='Progress:', layout=Layout(height='25px', width='50%'),…"
      ]
     },
     "metadata": {},
     "output_type": "display_data"
    },
    {
     "name": "stdout",
     "output_type": "stream",
     "text": [
      "+-------------------+----------+----------+--------------------+---------+\n",
      "|         event_time|event_type|product_id|        user_session|  user_id|\n",
      "+-------------------+----------+----------+--------------------+---------+\n",
      "|2019-10-27 14:59:30|      view|   1004209|00019495-9f33-48f...|564555327|\n",
      "|2019-10-23 21:47:22|      view|  12700733|0002854a-13ef-490...|543073137|\n",
      "|2019-10-23 21:46:23|      view|  12711147|0002854a-13ef-490...|543073137|\n",
      "|2019-10-23 21:45:52|      view|  12711761|0002854a-13ef-490...|543073137|\n",
      "|2019-10-23 21:47:09|      view|  12714302|0002854a-13ef-490...|543073137|\n",
      "|2019-10-23 21:46:30|      view|  12720202|0002854a-13ef-490...|543073137|\n",
      "|2019-10-23 21:46:12|      view|  12720618|0002854a-13ef-490...|543073137|\n",
      "|2019-10-23 21:45:08|      view|  12700737|0002854a-13ef-490...|543073137|\n",
      "|2019-10-23 21:46:44|      view|  12700738|0002854a-13ef-490...|543073137|\n",
      "|2019-10-23 21:45:34|      view|  12709558|0002854a-13ef-490...|543073137|\n",
      "|2019-10-23 21:46:36|      view|  12709558|0002854a-13ef-490...|543073137|\n",
      "|2019-10-23 21:47:37|      view|  12711053|0002854a-13ef-490...|543073137|\n",
      "|2019-10-23 21:48:29|      view|  13103083|0002854a-13ef-490...|543073137|\n",
      "|2019-10-23 21:45:59|      view|  12710972|0002854a-13ef-490...|543073137|\n",
      "|2019-10-23 21:45:23|      view|  12710973|0002854a-13ef-490...|543073137|\n",
      "|2019-10-23 21:47:00|      view|  12714301|0002854a-13ef-490...|543073137|\n",
      "|2019-10-23 21:46:04|      view|  12719662|0002854a-13ef-490...|543073137|\n",
      "|2019-10-23 21:46:53|      view|  12719852|0002854a-13ef-490...|543073137|\n",
      "|2019-10-23 21:47:28|      view|  12720603|0002854a-13ef-490...|543073137|\n",
      "|2019-10-23 14:11:51|      view|   1004768|0002a642-8f4a-48c...|513193974|\n",
      "+-------------------+----------+----------+--------------------+---------+\n",
      "only showing top 20 rows"
     ]
    }
   ],
   "source": [
    "events_on_users = events.join(sessions, events.user_session == sessions.user_session, \"left\").drop(sessions.user_session)\n",
    "\n",
    "events_on_users.cache()\n",
    "\n",
    "events_on_users.show()"
   ]
  },
  {
   "cell_type": "code",
   "execution_count": 81,
   "id": "6624a93d-67b9-4ac6-9afa-70752ea4fca1",
   "metadata": {
    "execution": {
     "iopub.execute_input": "2024-02-11T04:48:39.888993Z",
     "iopub.status.busy": "2024-02-11T04:48:39.888768Z",
     "iopub.status.idle": "2024-02-11T04:48:40.136841Z",
     "shell.execute_reply": "2024-02-11T04:48:40.136103Z",
     "shell.execute_reply.started": "2024-02-11T04:48:39.888969Z"
    },
    "tags": []
   },
   "outputs": [
    {
     "data": {
      "application/vnd.jupyter.widget-view+json": {
       "model_id": "cb93886e83a9480fbd656ef5235ee07d",
       "version_major": 2,
       "version_minor": 0
      },
      "text/plain": [
       "VBox()"
      ]
     },
     "metadata": {},
     "output_type": "display_data"
    },
    {
     "data": {
      "application/vnd.jupyter.widget-view+json": {
       "model_id": "",
       "version_major": 2,
       "version_minor": 0
      },
      "text/plain": [
       "FloatProgress(value=0.0, bar_style='info', description='Progress:', layout=Layout(height='25px', width='50%'),…"
      ]
     },
     "metadata": {},
     "output_type": "display_data"
    },
    {
     "name": "stdout",
     "output_type": "stream",
     "text": [
      "+--------------------+--------------------+---------------------+------------------------+\n",
      "|        user_session|    purchase_bundles|purchases_per_session|num_of_distinct_products|\n",
      "+--------------------+--------------------+---------------------+------------------------+\n",
      "|013d60d1-6e1c-46d...| [1004856, 16400207]|                    2|                       2|\n",
      "|01f873cd-080f-497...|  [1004566, 1004566]|                    2|                       1|\n",
      "|0282fc25-6010-44b...|[1004767, 1004873...|                    3|                       3|\n",
      "|039a5c48-9435-4a1...|  [1004930, 5100566]|                    2|                       2|\n",
      "|03fd0b1c-adb6-450...|[1004794, 1004999...|                    4|                       4|\n",
      "|049d6949-4f80-4fa...|[1004838, 1004838...|                    3|                       1|\n",
      "|05be52d9-2856-4b9...|[26200150, 26402516]|                    2|                       2|\n",
      "|0624e13e-1918-469...|  [1004246, 1004249]|                    2|                       2|\n",
      "|066826d9-a4de-46a...|  [1306650, 1306650]|                    2|                       1|\n",
      "|06f8f1df-2d8e-407...|  [1005115, 5100577]|                    2|                       2|\n",
      "|07bc944c-a4a4-4ea...|  [1004708, 1004708]|                    2|                       1|\n",
      "|083870a6-28f5-433...|[23300280, 12000130]|                    2|                       2|\n",
      "|08bcf799-dae8-472...|[15200915, 15200915]|                    2|                       1|\n",
      "|08caea90-f84f-430...|[1004873, 1004873...|                    3|                       2|\n",
      "|08f91a79-0fe1-4a0...|  [1004870, 1004856]|                    2|                       2|\n",
      "|0a4c7f44-c84c-459...|  [1002544, 1004857]|                    2|                       2|\n",
      "|0a8845b8-05b7-46e...|  [1004655, 1004655]|                    2|                       1|\n",
      "|0c595dae-665a-4f5...|  [9000121, 9000121]|                    2|                       1|\n",
      "|0c6f4015-a063-493...|  [1801849, 3701056]|                    2|                       2|\n",
      "|0cba4109-8152-44f...|  [4804056, 1004241]|                    2|                       2|\n",
      "+--------------------+--------------------+---------------------+------------------------+\n",
      "only showing top 20 rows"
     ]
    }
   ],
   "source": [
    "session_purchases = events_on_users.filter(col('event_type') == 'purchase')\\\n",
    "               .groupBy(\"user_session\").agg(collect_list(\"product_id\").alias(\"purchase_bundles\"),\n",
    "                                           count('user_session').alias('purchases_per_session'))\\\n",
    "               .filter(col('purchases_per_session') > 1)\\\n",
    "               .withColumn(\"num_of_distinct_products\", size(array_distinct(\"purchase_bundles\")))\n",
    "\n",
    "\n",
    "session_purchases.show()"
   ]
  },
  {
   "cell_type": "markdown",
   "id": "0cba599c-7de3-4ccb-b6f0-85cdfc4920e7",
   "metadata": {},
   "source": [
    "And those were the product groups with the most amount of cross-sells.\n",
    "As you can probably tell already, most of these groups are comprised of only one product.\n",
    "\n",
    "Since we filtered only the sessions where more than 1 item was bought, this indicates that customers bought only one product in a given session but ended up purchasing multiple items of these same products.\n",
    "\n",
    "And so their most common upsell path seems to be offering more of the same, instead of offering different products.\n",
    "\n",
    "In case you are curious, we can also find out what are the actual product bundles (that is, those with 2 different products purchased) with the most amount of sales.\n",
    "\n",
    "<h3> Most Sold Product Pairs </h3>"
   ]
  },
  {
   "cell_type": "code",
   "execution_count": 75,
   "id": "1c6111d8-0d05-4f98-b958-53c23f9105be",
   "metadata": {
    "execution": {
     "iopub.execute_input": "2024-02-11T04:36:06.136635Z",
     "iopub.status.busy": "2024-02-11T04:36:06.136407Z",
     "iopub.status.idle": "2024-02-11T04:36:06.182547Z",
     "shell.execute_reply": "2024-02-11T04:36:06.181873Z",
     "shell.execute_reply.started": "2024-02-11T04:36:06.136609Z"
    },
    "tags": []
   },
   "outputs": [
    {
     "data": {
      "application/vnd.jupyter.widget-view+json": {
       "model_id": "2de222df0b55401ea7cb25e8f0e3910b",
       "version_major": 2,
       "version_minor": 0
      },
      "text/plain": [
       "VBox()"
      ]
     },
     "metadata": {},
     "output_type": "display_data"
    },
    {
     "data": {
      "application/vnd.jupyter.widget-view+json": {
       "model_id": "",
       "version_major": 2,
       "version_minor": 0
      },
      "text/plain": [
       "FloatProgress(value=0.0, bar_style='info', description='Progress:', layout=Layout(height='25px', width='50%'),…"
      ]
     },
     "metadata": {},
     "output_type": "display_data"
    }
   ],
   "source": [
    "from itertools import combinations\n",
    "from pyspark.sql.functions import udf, explode, array_sort\n",
    "from pyspark.sql.types import ArrayType, IntegerType, BooleanType"
   ]
  },
  {
   "cell_type": "code",
   "execution_count": 82,
   "id": "3666750d-8b13-4ffa-aef2-f5570bbe4bf2",
   "metadata": {
    "execution": {
     "iopub.execute_input": "2024-02-11T04:48:45.915481Z",
     "iopub.status.busy": "2024-02-11T04:48:45.915253Z",
     "iopub.status.idle": "2024-02-11T04:48:46.170171Z",
     "shell.execute_reply": "2024-02-11T04:48:46.169398Z",
     "shell.execute_reply.started": "2024-02-11T04:48:45.915457Z"
    },
    "tags": []
   },
   "outputs": [
    {
     "data": {
      "application/vnd.jupyter.widget-view+json": {
       "model_id": "ab08173c0d67439e944915f32151b93c",
       "version_major": 2,
       "version_minor": 0
      },
      "text/plain": [
       "VBox()"
      ]
     },
     "metadata": {},
     "output_type": "display_data"
    },
    {
     "data": {
      "application/vnd.jupyter.widget-view+json": {
       "model_id": "",
       "version_major": 2,
       "version_minor": 0
      },
      "text/plain": [
       "FloatProgress(value=0.0, bar_style='info', description='Progress:', layout=Layout(height='25px', width='50%'),…"
      ]
     },
     "metadata": {},
     "output_type": "display_data"
    }
   ],
   "source": [
    "def get_products_pairs(arr):\n",
    "    if len(arr) > 2:\n",
    "        return list(combinations(arr, 2))\n",
    "    else:\n",
    "        return [arr, [0, 0]]\n",
    "\n",
    "# Register the UDF\n",
    "udf_get_products_pairs = udf(get_products_pairs, ArrayType(ArrayType(IntegerType())))\n",
    "\n",
    "# Apply the UDF to generate combinations\n",
    "session_purchases = session_purchases.withColumn(\"product_pairs\", udf_get_products_pairs(\"purchase_bundles\"))"
   ]
  },
  {
   "cell_type": "code",
   "execution_count": 83,
   "id": "9e36f690-8904-4bd3-9233-fc4de42ab30a",
   "metadata": {
    "execution": {
     "iopub.execute_input": "2024-02-11T04:48:50.484997Z",
     "iopub.status.busy": "2024-02-11T04:48:50.484766Z",
     "iopub.status.idle": "2024-02-11T04:48:50.736172Z",
     "shell.execute_reply": "2024-02-11T04:48:50.735423Z",
     "shell.execute_reply.started": "2024-02-11T04:48:50.484970Z"
    },
    "tags": []
   },
   "outputs": [
    {
     "data": {
      "application/vnd.jupyter.widget-view+json": {
       "model_id": "ba278842452a4727964e8a08f0e8f3c9",
       "version_major": 2,
       "version_minor": 0
      },
      "text/plain": [
       "VBox()"
      ]
     },
     "metadata": {},
     "output_type": "display_data"
    },
    {
     "data": {
      "application/vnd.jupyter.widget-view+json": {
       "model_id": "",
       "version_major": 2,
       "version_minor": 0
      },
      "text/plain": [
       "FloatProgress(value=0.0, bar_style='info', description='Progress:', layout=Layout(height='25px', width='50%'),…"
      ]
     },
     "metadata": {},
     "output_type": "display_data"
    },
    {
     "name": "stdout",
     "output_type": "stream",
     "text": [
      "+--------------------+--------------------+---------------------+------------------------+--------------------+\n",
      "|        user_session|    purchase_bundles|purchases_per_session|num_of_distinct_products|       product_pairs|\n",
      "+--------------------+--------------------+---------------------+------------------------+--------------------+\n",
      "|013d60d1-6e1c-46d...| [1004856, 16400207]|                    2|                       2|[[1004856, 164002...|\n",
      "|01f873cd-080f-497...|  [1004566, 1004566]|                    2|                       1|[[1004566, 100456...|\n",
      "|0282fc25-6010-44b...|[1004767, 1004873...|                    3|                       3|[[1004767, 100487...|\n",
      "|039a5c48-9435-4a1...|  [1004930, 5100566]|                    2|                       2|[[1004930, 510056...|\n",
      "|03fd0b1c-adb6-450...|[1004794, 1004999...|                    4|                       4|[[1004794, 100499...|\n",
      "|049d6949-4f80-4fa...|[1004838, 1004838...|                    3|                       1|[[1004838, 100483...|\n",
      "|05be52d9-2856-4b9...|[26200150, 26402516]|                    2|                       2|[[26200150, 26402...|\n",
      "|0624e13e-1918-469...|  [1004246, 1004249]|                    2|                       2|[[1004246, 100424...|\n",
      "|066826d9-a4de-46a...|  [1306650, 1306650]|                    2|                       1|[[1306650, 130665...|\n",
      "|06f8f1df-2d8e-407...|  [1005115, 5100577]|                    2|                       2|[[1005115, 510057...|\n",
      "|07bc944c-a4a4-4ea...|  [1004708, 1004708]|                    2|                       1|[[1004708, 100470...|\n",
      "|083870a6-28f5-433...|[23300280, 12000130]|                    2|                       2|[[23300280, 12000...|\n",
      "|08bcf799-dae8-472...|[15200915, 15200915]|                    2|                       1|[[15200915, 15200...|\n",
      "|08caea90-f84f-430...|[1004873, 1004873...|                    3|                       2|[[1004873, 100487...|\n",
      "|08f91a79-0fe1-4a0...|  [1004870, 1004856]|                    2|                       2|[[1004870, 100485...|\n",
      "|0a4c7f44-c84c-459...|  [1002544, 1004857]|                    2|                       2|[[1002544, 100485...|\n",
      "|0a8845b8-05b7-46e...|  [1004655, 1004655]|                    2|                       1|[[1004655, 100465...|\n",
      "|0c595dae-665a-4f5...|  [9000121, 9000121]|                    2|                       1|[[9000121, 900012...|\n",
      "|0c6f4015-a063-493...|  [1801849, 3701056]|                    2|                       2|[[1801849, 370105...|\n",
      "|0cba4109-8152-44f...|  [4804056, 1004241]|                    2|                       2|[[4804056, 100424...|\n",
      "+--------------------+--------------------+---------------------+------------------------+--------------------+\n",
      "only showing top 20 rows"
     ]
    }
   ],
   "source": [
    "session_purchases.show()"
   ]
  },
  {
   "cell_type": "code",
   "execution_count": 84,
   "id": "d65085b6-9b7f-4659-8514-0604ff440993",
   "metadata": {
    "execution": {
     "iopub.execute_input": "2024-02-11T04:48:54.422339Z",
     "iopub.status.busy": "2024-02-11T04:48:54.422114Z",
     "iopub.status.idle": "2024-02-11T04:48:59.712838Z",
     "shell.execute_reply": "2024-02-11T04:48:59.712062Z",
     "shell.execute_reply.started": "2024-02-11T04:48:54.422315Z"
    },
    "tags": []
   },
   "outputs": [
    {
     "data": {
      "application/vnd.jupyter.widget-view+json": {
       "model_id": "f2459ae546184c58bfc70a6eb87a9983",
       "version_major": 2,
       "version_minor": 0
      },
      "text/plain": [
       "VBox()"
      ]
     },
     "metadata": {},
     "output_type": "display_data"
    },
    {
     "data": {
      "application/vnd.jupyter.widget-view+json": {
       "model_id": "",
       "version_major": 2,
       "version_minor": 0
      },
      "text/plain": [
       "FloatProgress(value=0.0, bar_style='info', description='Progress:', layout=Layout(height='25px', width='50%'),…"
      ]
     },
     "metadata": {},
     "output_type": "display_data"
    },
    {
     "name": "stdout",
     "output_type": "stream",
     "text": [
      "+------------------+----------------+\n",
      "|     product_pairs|num_of_purchases|\n",
      "+------------------+----------------+\n",
      "|[1004856, 1004856]|            3312|\n",
      "|[1004767, 1004767]|            2920|\n",
      "|[5100563, 5100563]|            2251|\n",
      "|[1004833, 1004833]|            1959|\n",
      "|[4804056, 4804056]|            1821|\n",
      "|[1002544, 1002544]|            1408|\n",
      "|[1004870, 1004870]|            1392|\n",
      "|[1005115, 1005115]|            1196|\n",
      "|[1004767, 1004856]|            1043|\n",
      "|[1004249, 1004249]|             967|\n",
      "|[1004836, 1004836]|             951|\n",
      "|[1004833, 1004856]|             842|\n",
      "|[1002524, 1002524]|             814|\n",
      "|[1005105, 1005105]|             799|\n",
      "|[5100816, 5100816]|             694|\n",
      "|[1004873, 1004873]|             682|\n",
      "|[1002633, 1002633]|             682|\n",
      "|[1004741, 1004741]|             649|\n",
      "|[1004767, 1004833]|             605|\n",
      "|[1005100, 1005100]|             591|\n",
      "+------------------+----------------+\n",
      "only showing top 20 rows"
     ]
    }
   ],
   "source": [
    "# session_purchases = session_purchases.filter(col('num_of_distinct_products') > 1)\n",
    "product_pairs = session_purchases.select(explode(\"product_pairs\").alias(\"product_pairs\"))\\\n",
    "                               .withColumn(\"product_pairs\", array_sort(col(\"product_pairs\")))\\\n",
    "                               .groupBy(\"product_pairs\").agg(count(\"product_pairs\").alias(\"num_of_purchases\"))\\\n",
    "                               .filter(col(\"product_pairs\") != lit([0, 0]))\\\n",
    "                               .orderBy(col(\"num_of_purchases\").desc()) \n",
    "\n",
    "product_pairs.show()"
   ]
  },
  {
   "cell_type": "code",
   "execution_count": 85,
   "id": "d4ac8e2c-9732-4834-a5aa-9e9a2b646cef",
   "metadata": {
    "execution": {
     "iopub.execute_input": "2024-02-11T04:49:49.283973Z",
     "iopub.status.busy": "2024-02-11T04:49:49.283745Z",
     "iopub.status.idle": "2024-02-11T04:49:54.556740Z",
     "shell.execute_reply": "2024-02-11T04:49:54.555880Z",
     "shell.execute_reply.started": "2024-02-11T04:49:49.283947Z"
    },
    "tags": []
   },
   "outputs": [
    {
     "data": {
      "application/vnd.jupyter.widget-view+json": {
       "model_id": "d91cce668aca43198863dd78d143b5ba",
       "version_major": 2,
       "version_minor": 0
      },
      "text/plain": [
       "VBox()"
      ]
     },
     "metadata": {},
     "output_type": "display_data"
    },
    {
     "data": {
      "application/vnd.jupyter.widget-view+json": {
       "model_id": "",
       "version_major": 2,
       "version_minor": 0
      },
      "text/plain": [
       "FloatProgress(value=0.0, bar_style='info', description='Progress:', layout=Layout(height='25px', width='50%'),…"
      ]
     },
     "metadata": {},
     "output_type": "display_data"
    },
    {
     "name": "stdout",
     "output_type": "stream",
     "text": [
      "+------------------+----------------+\n",
      "|     product_pairs|num_of_purchases|\n",
      "+------------------+----------------+\n",
      "|[1004767, 1004856]|            1043|\n",
      "|[1004833, 1004856]|             842|\n",
      "|[1004767, 1004833]|             605|\n",
      "|[1004767, 1004870]|             530|\n",
      "|[1004767, 1004836]|             410|\n",
      "|[1004836, 1004856]|             336|\n",
      "|[1005105, 1005115]|             320|\n",
      "|[1004833, 1004836]|             290|\n",
      "|[1004249, 1005115]|             285|\n",
      "|[1002544, 1002633]|             268|\n",
      "|[1004767, 1004873]|             263|\n",
      "|[1002524, 1002544]|             253|\n",
      "|[1004209, 1004856]|             241|\n",
      "|[1004870, 1004873]|             227|\n",
      "|[1004750, 1004767]|             224|\n",
      "|[1004856, 1004870]|             220|\n",
      "|[1004750, 1004856]|             213|\n",
      "|[1004750, 1004833]|             210|\n",
      "|[1004856, 1004858]|             198|\n",
      "|[1002544, 1003306]|             191|\n",
      "+------------------+----------------+\n",
      "only showing top 20 rows"
     ]
    }
   ],
   "source": [
    "# Define a UDF to check for duplicates in an array\n",
    "def has_mixed_pairs(arr):\n",
    "    return arr[0] != arr[1]\n",
    "\n",
    "# Register the UDF\n",
    "udf_mixed_pair = udf(has_mixed_pairs, BooleanType())\n",
    "\n",
    "# Filter out rows where the array has duplicates\n",
    "product_pairs .filter(udf_mixed_pair(\"product_pairs\")).show()"
   ]
  },
  {
   "cell_type": "markdown",
   "id": "c656c861-56de-4a4f-8938-58b19ec11204",
   "metadata": {},
   "source": [
    "<h3> Average Order Value </h3>"
   ]
  },
  {
   "cell_type": "code",
   "execution_count": null,
   "id": "23b44102-c8bb-49e2-8e0c-8ed688f2dbb3",
   "metadata": {},
   "outputs": [],
   "source": [
    "# # 1) Merge products table with sessions_on_events table\n",
    "# products_bought_by_session = events_on_users.filter(col('event_type') == 'purchase') \\\n",
    "#     .select('user_session', 'product_id')\n",
    "# session_and_price = products_bought_by_session.join(products, 'product_id', 'left') \\\n",
    "#     .select('user_session', 'price')\n",
    "\n",
    "# # 2) Group by user_session and sum the price of goods purchased\n",
    "# sum_products_bought_per_session = session_and_price.groupBy('user_session') \\\n",
    "#     .sum('price') \\\n",
    "#     .withColumnRenamed('sum(price)', 'total_price') \\\n",
    "#     .orderBy('total_price', ascending=False)\n",
    "\n",
    "# # 3) Calculate Average Order Value (AOV)\n",
    "# sum_products_bought_per_session.createOrReplaceTempView('sum_products_bought_per_session')\n",
    "# aov_df = spark.sql(\"SELECT SUM(total_price) / COUNT(DISTINCT user_session) AS aov FROM sum_products_bought_per_session\")\n",
    "# aov = aov_df.collect()[0]['aov']\n"
   ]
  }
 ],
 "metadata": {
  "kernelspec": {
   "display_name": "PySpark",
   "language": "python",
   "name": "pysparkkernel"
  },
  "language_info": {
   "codemirror_mode": {
    "name": "python",
    "version": 3
   },
   "file_extension": ".py",
   "mimetype": "text/x-python",
   "name": "pyspark",
   "pygments_lexer": "python3"
  }
 },
 "nbformat": 4,
 "nbformat_minor": 5
}
